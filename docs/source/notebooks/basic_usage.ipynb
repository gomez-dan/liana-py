{
 "cells": [
  {
   "attachments": {},
   "cell_type": "markdown",
   "id": "2e773f17-4832-47df-8ae0-0d7588ccc889",
   "metadata": {},
   "source": [
    "# Steady-state Ligand-Receptor inference"
   ]
  },
  {
   "attachments": {},
   "cell_type": "markdown",
   "id": "6e4562e0-afa0-4b9c-a517-db18f12e1c40",
   "metadata": {},
   "source": [
    "`liana` provides different statistical methods to infer `ligand-receptor` interactions from single-cell transcriptomics data omics data using prior knowledge.\n",
    "In this notebook we showcase how to use liana in its most basic form with toy data."
   ]
  },
  {
   "cell_type": "markdown",
   "id": "6829f4dc",
   "metadata": {},
   "source": [
    "We also refer users to the [Cell-cell communication chapter](https://www.sc-best-practices.org/mechanisms/cell_cell_communication.html) in the [best-practices guide from Theis lab](https://www.nature.com/articles/s41576-023-00586-w). There we provide an overview of the common limitations and assumptions in CCC inference from (dissociated single-cell) transcriptomics data."
   ]
  },
  {
   "attachments": {},
   "cell_type": "markdown",
   "id": "b3589b06-5b9d-44bb-a962-02d87394d409",
   "metadata": {
    "tags": []
   },
   "source": [
    "## Loading Packages"
   ]
  },
  {
   "cell_type": "code",
   "execution_count": 9,
   "id": "af4eca31-878c-41ed-85be-d249d03be71b",
   "metadata": {},
   "outputs": [
    {
     "ename": "ModuleNotFoundError",
     "evalue": "No module named 'liana'",
     "output_type": "error",
     "traceback": [
      "\u001b[0;31m---------------------------------------------------------------------------\u001b[0m",
      "\u001b[0;31mModuleNotFoundError\u001b[0m                       Traceback (most recent call last)",
      "Cell \u001b[0;32mIn[9], line 2\u001b[0m\n\u001b[1;32m      1\u001b[0m \u001b[38;5;66;03m# import liana\u001b[39;00m\n\u001b[0;32m----> 2\u001b[0m \u001b[38;5;28;01mimport\u001b[39;00m \u001b[38;5;21;01mliana\u001b[39;00m \u001b[38;5;28;01mas\u001b[39;00m \u001b[38;5;21;01mli\u001b[39;00m\n\u001b[1;32m      3\u001b[0m \u001b[38;5;66;03m# needed for visualization and toy data\u001b[39;00m\n\u001b[1;32m      4\u001b[0m \u001b[38;5;28;01mimport\u001b[39;00m \u001b[38;5;21;01mscanpy\u001b[39;00m \u001b[38;5;28;01mas\u001b[39;00m \u001b[38;5;21;01msc\u001b[39;00m\n",
      "\u001b[0;31mModuleNotFoundError\u001b[0m: No module named 'liana'"
     ]
    }
   ],
   "source": [
    "# import liana\n",
    "import liana as li\n",
    "# needed for visualization and toy data\n",
    "import scanpy as sc"
   ]
  },
  {
   "attachments": {},
   "cell_type": "markdown",
   "id": "1a366d56-6b14-434b-9b73-7acf12dffcce",
   "metadata": {
    "tags": []
   },
   "source": [
    "## Loading toy data\n",
    "\n",
    "In the most general case, `liana`'s ligand-receptor methods use `anndata` objects with processed single-cell transcriptomics data, with pre-defined cell labels (identities), to infer ligand-receptor interactions among all pairs of cell identities.\n",
    "\n",
    "To load the example data-set, simply run:"
   ]
  },
  {
   "cell_type": "code",
   "execution_count": null,
   "id": "ffebc5bd-7d98-4f13-958e-4995cc229b71",
   "metadata": {},
   "outputs": [],
   "source": [
    "adata = sc.datasets.pbmc68k_reduced()"
   ]
  },
  {
   "attachments": {},
   "cell_type": "markdown",
   "id": "a9fa4ca5-3095-401f-b5cd-74e213fa77fe",
   "metadata": {},
   "source": [
    "The example single-cell data consists processed data with PBMCs cell types"
   ]
  },
  {
   "cell_type": "code",
   "execution_count": null,
   "id": "55faba8e-3567-408f-8ac7-50f30ccdc9ea",
   "metadata": {},
   "outputs": [],
   "source": [
    "sc.pl.umap(adata, color='bulk_labels', title='', frameon=False)"
   ]
  },
  {
   "attachments": {},
   "cell_type": "markdown",
   "id": "1d7acb3b-c398-46f9-a9c1-e10c503d11f1",
   "metadata": {},
   "source": [
    "## Background"
   ]
  },
  {
   "attachments": {},
   "cell_type": "markdown",
   "id": "a5bbdb2f-07c4-41e1-9354-8897d92c7775",
   "metadata": {},
   "source": [
    "`liana` typically works with the log1p-trasformed counts matrix, in this object the normalized counts are stored in `raw`:"
   ]
  },
  {
   "cell_type": "code",
   "execution_count": null,
   "id": "09fea265-ab35-4cc8-84a8-61effb213824",
   "metadata": {},
   "outputs": [],
   "source": [
    "adata.raw.X"
   ]
  },
  {
   "attachments": {},
   "cell_type": "markdown",
   "id": "4e3e8c79-fadc-434b-b14d-443ab707a8c5",
   "metadata": {},
   "source": [
    "Preferably, one would use `liana` with all features (genes) for which we have enough counts, but for the sake of this tutorial we are working with a matrix pre-filtered to the variable features alone."
   ]
  },
  {
   "attachments": {},
   "cell_type": "markdown",
   "id": "274ddc61-c171-4447-ab21-9bf3f4e5ad60",
   "metadata": {},
   "source": [
    "In the background, `liana` aggregates the counts matrix and generates statistics, typically related to cell identies.\n",
    "These statistics are then utilized by each of the methods in `liana`."
   ]
  },
  {
   "attachments": {},
   "cell_type": "markdown",
   "id": "8de134f2-b446-4b39-9806-3342b0480ddb",
   "metadata": {},
   "source": [
    "### Methods"
   ]
  },
  {
   "cell_type": "code",
   "execution_count": null,
   "id": "ea073e0d-85b7-4821-b54b-710bb55245b3",
   "metadata": {},
   "outputs": [],
   "source": [
    "li.mt.show_methods()"
   ]
  },
  {
   "attachments": {},
   "cell_type": "markdown",
   "id": "b2303073-5151-4ef8-9a95-daa939814b7d",
   "metadata": {},
   "source": [
    "Each method infers relevant ligand-receptor interactions relying on different assumptions and each method returns different ligand-receptor scores, typically a pair per method. One score corresponding to\n",
    "the `magnitude` (strength) of interaction and the other reflecting how `specificity` of a given interaction to a pair cell identities."
   ]
  },
  {
   "attachments": {},
   "cell_type": "markdown",
   "id": "c85b2a1e-6234-4ba4-a2b1-ab17266d2fc8",
   "metadata": {},
   "source": [
    "<div class=\"alert alert-info\">\n",
    "\n",
    "**Note**\n",
    "    \n",
    "<h4> Method Class</h4>\n",
    "    \n",
    "Methods in liana are **callable** instances of the `Method` class. To obtain further information for each method the user can refer to the methods documentation `?method_name` or `?method.__call__`. Alternatively, users can use the `method.describe` function to get a short summary for each method.\n",
    "\n",
    "</div>\n"
   ]
  },
  {
   "attachments": {},
   "cell_type": "markdown",
   "id": "82fa22e4-be9d-458f-9f95-f527d479f386",
   "metadata": {},
   "source": [
    "For example, if the user wishes to learn more about liana's `rank_aggregate` implementation, where we combine the scores of multiple methods, they could do the following: "
   ]
  },
  {
   "cell_type": "code",
   "execution_count": null,
   "id": "4aa8e26e-c44f-40f8-a05e-e39c9f1e046a",
   "metadata": {},
   "outputs": [],
   "source": [
    "# import liana's rank_aggregate\n",
    "from liana.mt import rank_aggregate"
   ]
  },
  {
   "cell_type": "code",
   "execution_count": null,
   "id": "5a4db922-435e-48c0-a32f-1220509fef75",
   "metadata": {},
   "outputs": [],
   "source": [
    "?rank_aggregate.__call__"
   ]
  },
  {
   "attachments": {},
   "cell_type": "markdown",
   "id": "3607da3a-81d4-4d85-85e1-128c38b8ef9b",
   "metadata": {},
   "source": [
    "or alternatively:"
   ]
  },
  {
   "cell_type": "code",
   "execution_count": null,
   "id": "11e3a3c3-163f-4f48-93ad-cbfe69db5e76",
   "metadata": {},
   "outputs": [],
   "source": [
    "rank_aggregate.describe()"
   ]
  },
  {
   "cell_type": "markdown",
   "id": "21977d5f",
   "metadata": {},
   "source": [
    "## By default, LIANA+ uses **human gene symbols**. See the documentation and the [Prior Knowledge vignette](https://liana-py.readthedocs.io/en/latest/notebooks/prior_knowledge.html) for details and instructions for homology conversion.\n"
   ]
  },
  {
   "attachments": {},
   "cell_type": "markdown",
   "id": "6ef44f96-b2d5-489d-b66e-581a97800766",
   "metadata": {},
   "source": [
    "## Example Run"
   ]
  },
  {
   "attachments": {},
   "cell_type": "markdown",
   "id": "fb386696-d8cc-417e-bfe8-243ab37848dd",
   "metadata": {},
   "source": [
    "### Individual Methods"
   ]
  },
  {
   "cell_type": "code",
   "execution_count": null,
   "id": "99e43df8-d2eb-4d99-8572-23a70239d521",
   "metadata": {},
   "outputs": [],
   "source": [
    "# import all individual methods\n",
    "from liana.method import singlecellsignalr, connectome, cellphonedb, natmi, logfc, cellchat, geometric_mean"
   ]
  },
  {
   "attachments": {},
   "cell_type": "markdown",
   "id": "4debc169-6d38-4768-9fbc-afc0ca396741",
   "metadata": {},
   "source": [
    "<div class=\"alert alert-info\">\n",
    "\n",
    "**Note**\n",
    "\n",
    "LIANA will by default use the `.raw` attribute of AnnData. If you wish to use .X set `use_raw` to `False`, or specify a `layer`.\n",
    "\n",
    "LIANA will also by default use the 'consensus' resource to infer ligand-receptor interactions. \n",
    "This resource was created as a consensus from the resources literature-curated resources in OmniPath, and uses **human gene symbols**.\n",
    "\n",
    "For different species, we provide 'mouseconsensus', for any other species you can provide your own resource, or translate LIANA's resources as shown [here](https://liana-py.readthedocs.io/en/latest/notebooks/prior_knowledge.html#Homology-Mapping).\n",
    "\n",
    "If you wish to use a different resource, please specify it via the `resource_name` parameter for internal resources, or provide an external one via `resource` or `interactions`.\n",
    "    \n",
    "</div>  "
   ]
  },
  {
   "cell_type": "code",
   "execution_count": null,
   "id": "e0aca516-4bad-4629-9c5e-57b84ca3b1ba",
   "metadata": {},
   "outputs": [],
   "source": [
    "# run cellphonedb\n",
    "cellphonedb(adata,\n",
    "            groupby='bulk_labels', \n",
    "            # NOTE by default the resource uses HUMAN gene symbols\n",
    "            resource_name='consensus',\n",
    "            expr_prop=0.1,\n",
    "            verbose=True, key_added='cpdb_res')"
   ]
  },
  {
   "attachments": {},
   "cell_type": "markdown",
   "id": "7487870e-91b8-4beb-8956-0f0069555a7f",
   "metadata": {},
   "source": [
    "By default, liana will be run **inplace** and results will be assigned to `adata.uns['liana_res']`.\n",
    "Note that the high proportion of missing entities here is expected, as we are working on the reduced dimensions data."
   ]
  },
  {
   "cell_type": "code",
   "execution_count": null,
   "id": "f1545c5c-378b-4b4a-a14b-b4bd6e3f00c1",
   "metadata": {
    "tags": []
   },
   "outputs": [],
   "source": [
    "# by default, liana's output is saved in place:\n",
    "adata.uns['cpdb_res'].head()"
   ]
  },
  {
   "attachments": {},
   "cell_type": "markdown",
   "id": "53b871a0-2ac7-4db0-854e-d7fdd0f33ed9",
   "metadata": {},
   "source": [
    "Here, we see that stats are provided for both ligand and receptor entities, more specifically: `ligand` and `receptor` are the two entities that potentially interact. As a reminder, CCC events are not limited to secreted signalling, but we refer to them as `ligand` and `receptor` for simplicity.\n",
    "\n",
    "Also, in the case of heteromeric complexes, the `ligand` and `receptor` columns represent the subunit with minimum expression, while `*_complex` corresponds to the actual complex, with subunits being separated by `_`.\n",
    "\n",
    "- `source` and `target` columns represent the source/sender and target/receiver cell identity for each interaction, respectively\n",
    "\n",
    "- `*_props`: represents the proportion of cells that express the entity. \n",
    "\n",
    "  By default, any interactions in which either entity is not expressed in above 10% of cells per cell type is considered as a false positive,\n",
    "  under the assumption that since CCC occurs between cell types, a sufficient proportion of cells within should express the genes.\n",
    "\n",
    "- `*_means`: entity expression mean per cell type\n",
    "\n",
    "- `lr_means`: mean ligand-receptor expression, as a measure of ligand-receptor interaction **magnitude**\n",
    "\n",
    "- `cellphone_pvals`: permutation-based p-values, as a measure of interaction **specificity**"
   ]
  },
  {
   "attachments": {},
   "cell_type": "markdown",
   "id": "bb8d289e-6dc6-46ae-a921-b08786d0b16d",
   "metadata": {},
   "source": [
    "<div class=\"alert alert-info\">\n",
    "\n",
    "**Note**\n",
    "    \n",
    "`ligand`, `receptor`, `source`, and `target` columns are returned by every ligand-receptor method, while the rest of the columns can vary across the ligand-receptor methods, as each method infers relies on different assumptions and scoring functions, and hence each returns different ligand-receptor scores. Nevertheless, typically most methods use a pair of scoring functions - where one often corresponds to the **magnitude** (strength) of interaction and the other reflects how **specificity** of a given interaction to a pair cell identities.\n",
    "    \n",
    "</div>"
   ]
  },
  {
   "attachments": {},
   "cell_type": "markdown",
   "id": "b04b8d35-a174-42fd-9857-c49c18b97328",
   "metadata": {},
   "source": [
    "#### Dotplot"
   ]
  },
  {
   "attachments": {},
   "cell_type": "markdown",
   "id": "e8df6254-b604-46a8-a4e4-2a5546abaa9c",
   "metadata": {},
   "source": [
    "We can now visualize the results that we just obtained.\n",
    "\n",
    "LIANA provides some basic, but flexible plotting functionalities. Here, we will generate a dotplot of relevant ligand-receptor interactions."
   ]
  },
  {
   "cell_type": "code",
   "execution_count": null,
   "id": "bb8ad053-58ee-4640-8cc6-791e9448a66c",
   "metadata": {},
   "outputs": [],
   "source": [
    "li.pl.dotplot(adata = adata, \n",
    "              colour='lr_means',\n",
    "              size='cellphone_pvals',\n",
    "              inverse_size=True, # we inverse sign since we want small p-values to have large sizes\n",
    "              source_labels=['CD34+', 'CD56+ NK', 'CD14+ Monocyte'],\n",
    "              target_labels=['CD34+', 'CD56+ NK'],\n",
    "              figure_size=(8, 7),\n",
    "              # finally, since cpdbv2 suggests using a filter to FPs\n",
    "              # we filter the pvals column to <= 0.05\n",
    "              filter_fun=lambda x: x['cellphone_pvals'] <= 0.05,\n",
    "              uns_key='cpdb_res' # uns_key to use, default is 'liana_res' \n",
    "             )"
   ]
  },
  {
   "attachments": {},
   "cell_type": "markdown",
   "id": "3894aff2-6b05-4bca-9e52-b3e313f912fa",
   "metadata": {},
   "source": [
    "<div class=\"alert alert-info\">\n",
    "   \n",
    "**Note**\n",
    "    \n",
    "Missing dots here would represent interactions for which the ligand and receptor are not expressed above the `expr_prop`. One can change this threshold by setting `expr_prop` to a different value. Alternatively, setting `return_all_lrs` to `True` will return all ligand-receptor interactions, regardless of expression.\n",
    "</div>"
   ]
  },
  {
   "attachments": {},
   "cell_type": "markdown",
   "id": "2acd9487",
   "metadata": {},
   "source": [
    "#### Tileplot"
   ]
  },
  {
   "attachments": {},
   "cell_type": "markdown",
   "id": "d468ce43",
   "metadata": {},
   "source": [
    "While dotplots are useful to visualize the most relevant interactions, LIANA's tileplots are more useful when visualizing the statistics of ligands and receptors, individually."
   ]
  },
  {
   "cell_type": "code",
   "execution_count": null,
   "id": "5121be63",
   "metadata": {},
   "outputs": [],
   "source": [
    "my_plot = li.pl.tileplot(adata = adata, \n",
    "                         # NOTE: fill & label need to exist for both\n",
    "                         # ligand_ and receptor_ columns\n",
    "                         fill='means',\n",
    "                         label='props',\n",
    "                         label_fun=lambda x: f'{x:.2f}',\n",
    "                         top_n=10, \n",
    "                         orderby='cellphone_pvals',\n",
    "                         orderby_ascending=True,\n",
    "                         source_labels=['CD34+', 'CD56+ NK', 'CD14+ Monocyte'],\n",
    "                         target_labels=['CD34+', 'CD56+ NK'],\n",
    "                         uns_key='cpdb_res', # NOTE: default is 'liana_res'\n",
    "                         source_title='Ligand',\n",
    "                         target_title='Receptor',\n",
    "                         figure_size=(8, 7)\n",
    "                         )\n",
    "my_plot"
   ]
  },
  {
   "attachments": {},
   "cell_type": "markdown",
   "id": "d3369195-f05c-4b91-9d43-696055244b29",
   "metadata": {},
   "source": [
    "### Rank Aggregate\n",
    "In addition to the individual methods, LIANA also provides a consensus that integrates the predictions of individual methods.\n",
    "This is done by ranking and aggregating ([RRA](https://academic.oup.com/bioinformatics/article-abstract/28/4/573/213339)) the ligand-receptor interaction predictions from all methods."
   ]
  },
  {
   "cell_type": "code",
   "execution_count": null,
   "id": "5aa0dd26-8677-4adf-a899-19aa69973746",
   "metadata": {},
   "outputs": [],
   "source": [
    "# Run rank_aggregate\n",
    "li.mt.rank_aggregate(adata, \n",
    "                     groupby='bulk_labels',\n",
    "                     resource_name='consensus',\n",
    "                     expr_prop=0.1,\n",
    "                     verbose=True)"
   ]
  },
  {
   "cell_type": "code",
   "execution_count": null,
   "id": "2652cf81-4b33-4808-a6c0-785c8dadb430",
   "metadata": {},
   "outputs": [],
   "source": [
    "adata.uns['liana_res'].head()"
   ]
  },
  {
   "cell_type": "code",
   "execution_count": null,
   "id": "499822f9-c1de-4bed-b9d7-c11e4d4f82db",
   "metadata": {},
   "outputs": [],
   "source": [
    "rank_aggregate.describe()"
   ]
  },
  {
   "attachments": {},
   "cell_type": "markdown",
   "id": "587a029b-d835-4ea2-be05-19fcefae551b",
   "metadata": {},
   "source": [
    "The remainder of the columns in this dataframe are those coming from each of the methods included in the `rank_aggregate` - i.e. see the `show_methods` to map methods to scores."
   ]
  },
  {
   "attachments": {},
   "cell_type": "markdown",
   "id": "8b8aece1-3e09-491e-a685-698a255b80e7",
   "metadata": {
    "tags": []
   },
   "source": [
    "#### Dotplot"
   ]
  },
  {
   "attachments": {},
   "cell_type": "markdown",
   "id": "73dee9e3-79f3-4fd7-aa7d-83f38bbb9577",
   "metadata": {},
   "source": [
    "We will now plot the most 'relevant' interactions ordered to the `magnitude_rank` results from aggregated_rank."
   ]
  },
  {
   "cell_type": "code",
   "execution_count": null,
   "id": "f4493887-7bdc-47b0-9293-e683eb9bfac5",
   "metadata": {},
   "outputs": [],
   "source": [
    "li.pl.dotplot(adata = adata, \n",
    "              colour='magnitude_rank',\n",
    "              size='specificity_rank',\n",
    "              inverse_size=True,\n",
    "              inverse_colour=True,\n",
    "              source_labels=['CD34+', 'CD56+ NK', 'CD14+ Monocyte'],\n",
    "              target_labels=['CD34+', 'CD56+ NK'],\n",
    "              top_n=10, \n",
    "              orderby='magnitude_rank',\n",
    "              orderby_ascending=True,\n",
    "              figure_size=(8, 7)\n",
    "             )"
   ]
  },
  {
   "attachments": {},
   "cell_type": "markdown",
   "id": "2c6f0d36-89e2-4bf2-b483-561cdbc8f481",
   "metadata": {},
   "source": [
    "Similarly, we can also treat the ranks provided by RRA as a probability distribution to which we can `filter` interactions\n",
    "according to how robustly and highly ranked they are across the different methods."
   ]
  },
  {
   "cell_type": "code",
   "execution_count": null,
   "id": "0ad955a0-32b0-40aa-8bf4-eddf5e1dc025",
   "metadata": {
    "tags": []
   },
   "outputs": [],
   "source": [
    "my_plot = li.pl.dotplot(adata = adata, \n",
    "                        colour='magnitude_rank',\n",
    "                        inverse_colour=True,\n",
    "                        size='specificity_rank',\n",
    "                        inverse_size=True,\n",
    "                        source_labels=['CD34+', 'CD56+ NK', 'CD14+ Monocyte'],\n",
    "                        target_labels=['CD34+', 'CD56+ NK'],\n",
    "                        filter_fun=lambda x: x['specificity_rank'] <= 0.01,\n",
    "                       )\n",
    "my_plot"
   ]
  },
  {
   "attachments": {},
   "cell_type": "markdown",
   "id": "d48a318d",
   "metadata": {},
   "source": [
    "Save the plot to a file:"
   ]
  },
  {
   "cell_type": "code",
   "execution_count": null,
   "id": "e637c519",
   "metadata": {},
   "outputs": [],
   "source": [
    "my_plot.save('dotplot.pdf')"
   ]
  },
  {
   "attachments": {},
   "cell_type": "markdown",
   "id": "74903e97",
   "metadata": {},
   "source": [
    "#### Customizing LIANA's Plots"
   ]
  },
  {
   "attachments": {},
   "cell_type": "markdown",
   "id": "7e98390b-a525-4094-8d27-d862a6bc0c4c",
   "metadata": {},
   "source": [
    "Finally, the plots in liana are built with `plotnine` and their aesthetics can be easily modified. For example:"
   ]
  },
  {
   "cell_type": "code",
   "execution_count": null,
   "id": "d2a883ed-1324-4b8f-a1e8-b7fbbcb26621",
   "metadata": {},
   "outputs": [],
   "source": [
    "# we import plotnine\n",
    "import plotnine as p9"
   ]
  },
  {
   "cell_type": "code",
   "execution_count": null,
   "id": "e0267dda-e858-42f4-a6a9-79594ad89a68",
   "metadata": {},
   "outputs": [],
   "source": [
    "(my_plot +\n",
    " # change theme\n",
    " p9.theme_dark() +\n",
    " # modify theme\n",
    " p9.theme(\n",
    "     # adjust facet size\n",
    "     strip_text=p9.element_text(size=11),\n",
    "     figure_size=(7, 4)\n",
    " )\n",
    ")"
   ]
  },
  {
   "attachments": {},
   "cell_type": "markdown",
   "id": "98e87fb7-802f-43c9-b398-b4bd23151294",
   "metadata": {
    "tags": []
   },
   "source": [
    "For more plot modification options  we refer the user to `plotnine`'s tutorials\n",
    "and to the following link for a quick intro: \n",
    "https://datacarpentry.org/python-ecology-lesson/07-visualization-ggplot-python/index.html."
   ]
  },
  {
   "attachments": {},
   "cell_type": "markdown",
   "id": "f5b0952d",
   "metadata": {},
   "source": [
    "## Customizing LIANA's rank aggregate"
   ]
  },
  {
   "attachments": {},
   "cell_type": "markdown",
   "id": "9f020cf9",
   "metadata": {},
   "source": [
    "LIANA's rank aggregate is also customizable, and the user can choose to include only a subset of the methods.\n",
    "\n",
    "For example, let's generate a consensus with geometric mean and logfc methods only:"
   ]
  },
  {
   "cell_type": "code",
   "execution_count": null,
   "id": "bc629550",
   "metadata": {},
   "outputs": [],
   "source": [
    "methods = [logfc, geometric_mean]\n",
    "new_rank_aggregate = li.mt.AggregateClass(li.mt.aggregate_meta, methods=methods)"
   ]
  },
  {
   "cell_type": "code",
   "execution_count": null,
   "id": "eddb810f",
   "metadata": {},
   "outputs": [],
   "source": [
    "new_rank_aggregate(adata,\n",
    "                   groupby='bulk_labels',\n",
    "                   expr_prop=0.1, \n",
    "                   verbose=True,\n",
    "                   # Note that with this option, we don't perform permutations\n",
    "                   # and hence we exclude the p-value for geometric_mean, as well as specificity_rank\n",
    "                   n_perms=None,\n",
    "                   use_raw=True,\n",
    "                   )"
   ]
  },
  {
   "attachments": {},
   "cell_type": "markdown",
   "id": "42f1ed1d",
   "metadata": {},
   "source": [
    "Check the results"
   ]
  },
  {
   "cell_type": "code",
   "execution_count": null,
   "id": "6e685209",
   "metadata": {},
   "outputs": [],
   "source": [
    "adata.uns['liana_res'].head()"
   ]
  },
  {
   "cell_type": "markdown",
   "id": "f8c53062",
   "metadata": {},
   "source": [
    "## Method Details\n",
    "(Rendered version of **Supplementary Table 3** from the manuscript)"
   ]
  },
  {
   "cell_type": "markdown",
   "id": "84af03fc",
   "metadata": {},
   "source": [
    "| Method                         | Magnitude                                                                                      | Specificity                                                                                  |\n",
    "|--------------------------------|------------------------------------------------------------------------------------------------|----------------------------------------------------------------------------------------------|\n",
    "| [CellPhoneDBv2](https://www.nature.com/articles/s41596-020-0292-x)                  | $$LRmean_{k,ij} = \\frac{L_{C_{i}} + R_{C_{j}}}{2}$$                                             | See ρ                                                                                        |\n",
    "| Geometric Mean                 | $$LRgeometric.mean_{k,ij} = \\sqrt{L_{C_{i}} \\cdot R_{C_{j}}}$$                                 | See ρ                                                                                        |\n",
    "| [CellChat's](https://www.nature.com/articles/s41467-021-21246-9) LR probabilities †      | $$LRprob_{k,ij} = \\frac{L^*_{C_{i}} \\cdot R^*_{C_{j}}}{Kh + L^*_{C_{i}} \\cdot R^*_{C_{j}}}$$ where Kh is a normalizing parameter (set to 0.5 by default) and L* & R* are aggregated using Tuckey's Trimean function (See below). | See ρ                                                                                        |\n",
    "| [SingleCellSignalR](https://www.ncbi.nlm.nih.gov/pmc/articles/PMC7261168/)              | $$LRscore_{k,ij} = \\frac{\\sqrt{L_{C_{i}} R_{C_{j}}}}{\\sqrt{L_{C_{i}} R_{C_{j}}} + \\mu}$$ where $\\mu$ is the mean of the expression matrix M     | -                                                                                            |\n",
    "| [NATMI](https://www.nature.com/articles/s41467-020-18873-z)                          | $$LRproduct_{k,ij} = L_{C_{i}} R_{C_{j}}$$                                                    | $$SpecificityWeight_{k,ij} = \\frac{L_{C_{i}}}{\\sum^{n} L_{C_{i}}} \\cdot \\frac{R_{C_{j}}}{\\sum^{n} R_{C_{j}}}$$ |\n",
    "| [Connectome](https://www.nature.com/articles/s41598-022-07959-x)                     | $$LRproduct_{k,ij} = L_{C_{i}} R_{C_{j}}$$                                                    | $$LRz.mean_{k,ij} = \\frac{z_{L_{C_{i}}} + z_{R_{C_{j}}}}{2}$$   where z is the z-score of the expression matrix M|                                             |\n",
    "| LogFC‡                         | -                                                                                              | $$LRlog2FC_{k,ij} = \\frac{\\text{Log2FC}_{C_i,L} + \\text{Log2FC}_{C_j,R}}{2}$$                |\n",
    "| [ScSeqComm](https://academic.oup.com/bioinformatics/article/38/7/1920/6511439) (intercellular scores only)   | $$LRinterscore_{k,ij} = \\text{min}(P(L_{Ci}), P(R_{Cj}))$$ $$P(X) = \\Phi\\left(\\frac{X - \\mu}{\\sigma / \\sqrt{n}}\\right)$$                              Where $\\Phi$ is the CDF of a normal distribution, μ is the mean, σ is the standard deviation, and n is the number of observations | -                                                                                            |\n",
    "| LIANA’s Consensus#             | Used flexibly to combine the Magnitude scores of the methods above. By default, uses all except the Geometric mean and CellChat, independently for magnitude and specificity scores. | Same as Magnitude Rank Aggregate but aggregates the specificity scores of different methods.                                                                                          |\n",
    "\n",
    "**Shared Notation:**\n",
    "\n",
    "- k is the k-th ligand-receptor interaction\n",
    "- L - expression of ligand L; R - expression of receptor R; See Ѫ\n",
    "- C - cell cluster\n",
    "- i - cell group i\n",
    "- j - cell group j\n",
    "- M - a library-size normalised and log1p-transformed gene expression matrix\n",
    "- X - normalised gene expression vector\n",
    "\n",
    "**Permutations to calculate specificity (ρ):**\n",
    "\n",
    "$$ p\\text{-value}_{k,ij} = \\frac{1}{P} \\sum_{p=1}^{P} [fun_{permuted}(L^*_{C_{i}}, R^*_{C_{j}}) \\geq fun_{observed}(L^*_{C_{i}}, R^*_{C_{j}})]$$\n",
    "\n",
    "where P is the number of permutations, and L* and R* are ligand and receptor expressions aggregated by group (cluster) using fun; arithmetic mean for CellPhoneDB and Geometric Mean, and Tuckey’s TriMean for CellChat:\n",
    "\n",
    "$$TriMean(X) = \\frac{Q_{0.25}(X) + 2 \\cdot Q_{0.5}(X) + Q_{0.75}(X)}{4}$$\n",
    "\n",
    "**Consensus(#)**\n",
    "\n",
    "First, a normalised rank matrix [0,1] is generated separately for magnitude and specificity as: \n",
    "\n",
    "$$r_{ij} = \\frac{rank_{ij}}{\\max(rank_i)} \\quad (1 \\leq i \\leq m, 1 \\leq j \\leq n)$$\n",
    "\n",
    "where m is the number of ranked score vectors, n is the length of each score vector (number of interactions), rankij is the rank of the j-th element (interaction) in the i-th score rank vector, and max(ranki) is the maximum rank in the i-th rank vector.\n",
    "\n",
    "For each normalised rank vector r, we then ask how probable it is to obtain rnull(k)<= r(k), where rnull(k) is a rank vector generated under the null hypothesis. The [RobustRankAggregate](https://www.ncbi.nlm.nih.gov/pmc/articles/PMC3278763/) method expresses the probability rnull(k)<= r(k) as k,n(r) through a beta distribution. This entails that we obtain probabilities for each score vector r as:\n",
    "\n",
    "$$p(r) = \\underset{1, ..., n}{min} \\beta_k,_n(r) * n$$\n",
    "\n",
    "where we take the minimum probability for each interaction across the score vectors, and we apply a Bonferroni multi-testing correction to the P-values by multiplying them by n.\n",
    "\n",
    "\n",
    "**Notes:**\n",
    "\n",
    "- Δ Some differences are expected with the original implementations largely due to different preprocessing steps which LIANA+ harmonised across the different methods. Specifically, LIANA+ considers the minimum score (e.g. average expression) for complex subunits, while some methods consider the mean, geometric mean, or simply do not account for complexes at all.\n",
    "- † The original [CellChat](https://github.com/jinworks/CellChat) implementation additionally uses information about mediator proteins and pathways, which are specific to the CellChat resource. Since we wish to keep LIANA+ resource-agnostic, **we do not utilise mediator information**, as such while the remainder of the score calculation is identical to CellChat's LR probabilities, some differences are anticipated.\n",
    "- Ѫ While we refer to the genes as ligands and receptors for simplicity, these can represent the gene expression also of membrane-bound or extracellular-matrix proteins, as well as heteromeric complexes for which the minimum expression across subunits is used.\n",
    "- ‡ 1-vs-rest cell group log2FC for each gene is calculated as $$log2FC = \\log_2\\left(\\text{mean}(X_i)\\right) - \\log_2\\left(\\text{mean}(X_{\\text{not}_i})\\right)$$\n",
    "- (*) LIANA considers interactions as occurring only if both the ligand and receptor, as well as all of their subunits, are expressed above a certain proportion of cells in both clusters involved in the interaction (0.1 by default). This can be formulated as an indicator function as follows:\n",
    "$$I \\left\\{ L_{C_j}^{expr.prop} \\geq 0.1 \\text{ and } R_{C_j}^{expr.prop} \\geq 0.1 \\right\\}$$\n"
   ]
  },
  {
   "cell_type": "markdown",
   "id": "8e55999b",
   "metadata": {},
   "source": [
    "\n",
    "### 🙏 <span style=\"color: darkred;\"> Please consider citing the original methods when using their LIANA+ adaptations in your work! 🙏 </span>\n",
    "\n",
    "*While LIANA+ simply aims to ease ligand-receptor inference, the original authors and developers should be credited for their work.*\n",
    "\n",
    "*We acknowledge their valuable contributions and we hope you would too!*"
   ]
  },
  {
   "cell_type": "markdown",
   "id": "a6eef4c1",
   "metadata": {},
   "source": []
  }
 ],
 "metadata": {
  "kernelspec": {
   "display_name": "liana_env",
   "language": "python",
   "name": "python3"
  },
  "language_info": {
   "codemirror_mode": {
    "name": "ipython",
    "version": 3
   },
   "file_extension": ".py",
   "mimetype": "text/x-python",
   "name": "python",
   "nbconvert_exporter": "python",
   "pygments_lexer": "ipython3",
   "version": "3.9.12"
  }
 },
 "nbformat": 4,
 "nbformat_minor": 5
}
